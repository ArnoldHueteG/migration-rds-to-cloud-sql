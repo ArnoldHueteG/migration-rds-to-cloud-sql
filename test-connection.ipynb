{
 "cells": [
  {
   "cell_type": "code",
   "execution_count": 1,
   "metadata": {},
   "outputs": [],
   "source": [
    "import datamigration_wrapper as dms\n",
    "from datetime import datetime\n",
    "import pandas as pd\n",
    "import multiprocessing\n",
    "from multiprocessing import log_to_stderr, get_logger\n",
    "import logging\n",
    "import argparse\n",
    "from pgdb import connect"
   ]
  },
  {
   "cell_type": "code",
   "execution_count": 2,
   "metadata": {},
   "outputs": [],
   "source": [
    "parser = argparse.ArgumentParser()\n",
    "parser.add_argument('--migration-file', type=str)\n",
    "args = parser.parse_args(\"\")\n",
    "\n",
    "migration_file = args.migration_file or 'Test GCP Migration.csv'\n",
    "df_machine_types = pd.read_csv('machine_types.csv')\n",
    "df_migration_data = pd.read_csv(migration_file)"
   ]
  },
  {
   "cell_type": "code",
   "execution_count": 3,
   "metadata": {},
   "outputs": [
    {
     "data": {
      "text/html": [
       "<div>\n",
       "<style scoped>\n",
       "    .dataframe tbody tr th:only-of-type {\n",
       "        vertical-align: middle;\n",
       "    }\n",
       "\n",
       "    .dataframe tbody tr th {\n",
       "        vertical-align: top;\n",
       "    }\n",
       "\n",
       "    .dataframe thead th {\n",
       "        text-align: right;\n",
       "    }\n",
       "</style>\n",
       "<table border=\"1\" class=\"dataframe\">\n",
       "  <thead>\n",
       "    <tr style=\"text-align: right;\">\n",
       "      <th></th>\n",
       "      <th>Team Name</th>\n",
       "      <th>Service</th>\n",
       "      <th>k8sSecretNamespace</th>\n",
       "      <th>DB Identifier</th>\n",
       "      <th>Endpoint Address</th>\n",
       "      <th>Port</th>\n",
       "      <th>ReplicationUsername</th>\n",
       "      <th>ReplicationPassword</th>\n",
       "      <th>ProjectId</th>\n",
       "      <th>Version</th>\n",
       "      <th>Location</th>\n",
       "      <th>StorageType</th>\n",
       "      <th>CPU</th>\n",
       "      <th>Memory</th>\n",
       "      <th>Storage</th>\n",
       "    </tr>\n",
       "  </thead>\n",
       "  <tbody>\n",
       "    <tr>\n",
       "      <th>0</th>\n",
       "      <td>accounts-identity</td>\n",
       "      <td>fake</td>\n",
       "      <td>tmc-iam</td>\n",
       "      <td>poc-migration-12</td>\n",
       "      <td>poc-migration-12.cjq8ffbfbj4k.us-east-1.rds.am...</td>\n",
       "      <td>5432</td>\n",
       "      <td>postgres</td>\n",
       "      <td>postgres</td>\n",
       "      <td>aws-rds-gcp-cloudsql</td>\n",
       "      <td>POSTGRES_12</td>\n",
       "      <td>us-east4</td>\n",
       "      <td>PD_SSD</td>\n",
       "      <td>2</td>\n",
       "      <td>1</td>\n",
       "      <td>15</td>\n",
       "    </tr>\n",
       "    <tr>\n",
       "      <th>1</th>\n",
       "      <td>accounts-identity</td>\n",
       "      <td>fake</td>\n",
       "      <td>tmc-iam</td>\n",
       "      <td>poc-migration-11</td>\n",
       "      <td>poc-migration-11.cjq8ffbfbj4k.us-east-1.rds.am...</td>\n",
       "      <td>5432</td>\n",
       "      <td>postgres</td>\n",
       "      <td>postgres</td>\n",
       "      <td>aws-rds-gcp-cloudsql</td>\n",
       "      <td>POSTGRES_11</td>\n",
       "      <td>us-east4</td>\n",
       "      <td>PD_SSD</td>\n",
       "      <td>1</td>\n",
       "      <td>1</td>\n",
       "      <td>10</td>\n",
       "    </tr>\n",
       "    <tr>\n",
       "      <th>2</th>\n",
       "      <td>accounts-identity</td>\n",
       "      <td>fake</td>\n",
       "      <td>tmc-iam</td>\n",
       "      <td>poc-migration-12</td>\n",
       "      <td>poc-migration-12.cjq8ffbfbj4k.us-east-1.rds.am...</td>\n",
       "      <td>5432</td>\n",
       "      <td>postgres</td>\n",
       "      <td>postgres</td>\n",
       "      <td>aws-rds-gcp-cloudsql</td>\n",
       "      <td>POSTGRES_12</td>\n",
       "      <td>us-east4</td>\n",
       "      <td>PD_SSD</td>\n",
       "      <td>2</td>\n",
       "      <td>1</td>\n",
       "      <td>12</td>\n",
       "    </tr>\n",
       "    <tr>\n",
       "      <th>3</th>\n",
       "      <td>accounts-identity</td>\n",
       "      <td>fake</td>\n",
       "      <td>tmc-iam</td>\n",
       "      <td>poc-migration-11</td>\n",
       "      <td>poc-migration-11.cjq8ffbfbj4k.us-east-1.rds.am...</td>\n",
       "      <td>5432</td>\n",
       "      <td>postgres</td>\n",
       "      <td>postgres</td>\n",
       "      <td>aws-rds-gcp-cloudsql</td>\n",
       "      <td>POSTGRES_11</td>\n",
       "      <td>us-east4</td>\n",
       "      <td>PD_SSD</td>\n",
       "      <td>1</td>\n",
       "      <td>1</td>\n",
       "      <td>18</td>\n",
       "    </tr>\n",
       "  </tbody>\n",
       "</table>\n",
       "</div>"
      ],
      "text/plain": [
       "           Team Name Service k8sSecretNamespace     DB Identifier  \\\n",
       "0  accounts-identity    fake            tmc-iam  poc-migration-12   \n",
       "1  accounts-identity    fake            tmc-iam  poc-migration-11   \n",
       "2  accounts-identity    fake            tmc-iam  poc-migration-12   \n",
       "3  accounts-identity    fake            tmc-iam  poc-migration-11   \n",
       "\n",
       "                                    Endpoint Address  Port  \\\n",
       "0  poc-migration-12.cjq8ffbfbj4k.us-east-1.rds.am...  5432   \n",
       "1  poc-migration-11.cjq8ffbfbj4k.us-east-1.rds.am...  5432   \n",
       "2  poc-migration-12.cjq8ffbfbj4k.us-east-1.rds.am...  5432   \n",
       "3  poc-migration-11.cjq8ffbfbj4k.us-east-1.rds.am...  5432   \n",
       "\n",
       "  ReplicationUsername ReplicationPassword             ProjectId      Version  \\\n",
       "0            postgres            postgres  aws-rds-gcp-cloudsql  POSTGRES_12   \n",
       "1            postgres            postgres  aws-rds-gcp-cloudsql  POSTGRES_11   \n",
       "2            postgres            postgres  aws-rds-gcp-cloudsql  POSTGRES_12   \n",
       "3            postgres            postgres  aws-rds-gcp-cloudsql  POSTGRES_11   \n",
       "\n",
       "   Location StorageType  CPU  Memory  Storage  \n",
       "0  us-east4      PD_SSD    2       1       15  \n",
       "1  us-east4      PD_SSD    1       1       10  \n",
       "2  us-east4      PD_SSD    2       1       12  \n",
       "3  us-east4      PD_SSD    1       1       18  "
      ]
     },
     "metadata": {},
     "output_type": "display_data"
    }
   ],
   "source": [
    "display(df_migration_data)"
   ]
  },
  {
   "cell_type": "code",
   "execution_count": 4,
   "metadata": {},
   "outputs": [],
   "source": [
    "project_id = 'aws-rds-gcp-cloudsql'\n",
    "region_id = 'us-east4'\n",
    "prefix_cp_source = 'auto-cp-pg-'\n",
    "prefix_cp_cloudsql = 'auto-cs-pg-'\n",
    "prefix_mj='auto-mj-'\n",
    "now_str = datetime.now().strftime(\"%Y%m%dt%H%M%S\")"
   ]
  },
  {
   "cell_type": "code",
   "execution_count": 5,
   "metadata": {},
   "outputs": [],
   "source": [
    "list_migration_job = []\n",
    "for index, row in df_migration_data.iterrows():\n",
    "    dc={}\n",
    "    dc[\"source_connection\"] = {\"postgresql\": {\"host\": row[\"Endpoint Address\"],\n",
    "                                      \"port\": row[\"Port\"],\n",
    "                                      \"username\": row[\"ReplicationUsername\"],\n",
    "                                      \"password\": row[\"ReplicationPassword\"]}}\n",
    "    dc[\"target_server_settings_cloud_sql\"] = { \"databaseVersion\": row[\"Version\"],\n",
    "                              \"tier\": \"db-custom-1-3840\",\n",
    "                              \"dataDiskSizeGb\": row[\"Storage\"]}\n",
    "    dc[\"location_dict\"] = {\"project_id\": project_id,\n",
    "                  \"region_id\": region_id}\n",
    "    dc[\"prefix_dict\"] = {\"prefix_cp_source\": prefix_cp_source,\n",
    "               \"prefix_cp_cloudsql\": prefix_cp_cloudsql,\n",
    "               \"prefix_mj\": prefix_mj,\n",
    "               \"now_str\": now_str,\n",
    "                \"id\" : index}\n",
    "    dc[\"target_base_settings_cloud_sql\"] = { \"ipConfig\": {\n",
    "                                \"enableIpv4\": True\n",
    "                              },\n",
    "                              \"autoStorageIncrease\": True,\n",
    "                              \"dataDiskType\": \"PD_SSD\",\n",
    "                              \"rootPassword\": \"postgres\"}\n",
    "    list_migration_job.append((dc[\"prefix_dict\"],dc[\"location_dict\"],dc[\"source_connection\"],dc[\"target_base_settings_cloud_sql\"],dc[\"target_server_settings_cloud_sql\"]))"
   ]
  },
  {
   "cell_type": "code",
   "execution_count": 6,
   "metadata": {},
   "outputs": [
    {
     "data": {
      "text/plain": [
       "{'postgresql': {'host': 'poc-migration-12.cjq8ffbfbj4k.us-east-1.rds.amazonaws.com',\n",
       "  'port': 5432,\n",
       "  'username': 'postgres',\n",
       "  'password': 'postgres'}}"
      ]
     },
     "execution_count": 6,
     "metadata": {},
     "output_type": "execute_result"
    }
   ],
   "source": [
    "list_migration_job[0][2]"
   ]
  },
  {
   "cell_type": "code",
   "execution_count": 7,
   "metadata": {},
   "outputs": [],
   "source": [
    "source_connection = list_migration_job[0][2]#[\"postgresql\"]"
   ]
  },
  {
   "cell_type": "code",
   "execution_count": 8,
   "metadata": {},
   "outputs": [],
   "source": [
    "logger = dms.setup_logger()"
   ]
  },
  {
   "cell_type": "code",
   "execution_count": 9,
   "metadata": {},
   "outputs": [
    {
     "name": "stderr",
     "output_type": "stream",
     "text": [
      "2021/05/11 23:52:51:root:DEBUG:Your connection to poc-migration-12.cjq8ffbfbj4k.us-east-1.rds.amazonaws.com was successful.\n"
     ]
    },
    {
     "data": {
      "text/plain": [
       "True"
      ]
     },
     "execution_count": 9,
     "metadata": {},
     "output_type": "execute_result"
    }
   ],
   "source": [
    "dms.test_connection(source_connection,logger)"
   ]
  },
  {
   "cell_type": "code",
   "execution_count": null,
   "metadata": {},
   "outputs": [],
   "source": []
  },
  {
   "cell_type": "code",
   "execution_count": 14,
   "metadata": {},
   "outputs": [
    {
     "data": {
      "text/plain": [
       "{'host': 'poc-migration-12.cjq8ffbfbj4k.us-east-1.rds.amazonaws.com',\n",
       " 'port': 5432,\n",
       " 'username': 'postgres',\n",
       " 'password': 'postgres',\n",
       " 'database': 'postgres'}"
      ]
     },
     "execution_count": 14,
     "metadata": {},
     "output_type": "execute_result"
    }
   ],
   "source": [
    "source_connection = dict(source_connection[\"postgresql\"])\n",
    "source_connection[\"database\"]=\"postgres\"\n",
    "source_connection"
   ]
  },
  {
   "cell_type": "code",
   "execution_count": 15,
   "metadata": {},
   "outputs": [],
   "source": [
    "conn = connect(database=source_connection['database'],\n",
    "                         host=source_connection['host'],\n",
    "                         user=source_connection['username'],\n",
    "                         password=source_connection['password'],\n",
    "                         port=source_connection['port'])"
   ]
  },
  {
   "cell_type": "code",
   "execution_count": 16,
   "metadata": {},
   "outputs": [],
   "source": [
    "conn.close()"
   ]
  },
  {
   "cell_type": "code",
   "execution_count": null,
   "metadata": {},
   "outputs": [],
   "source": [
    "\n",
    "try:\n",
    "    conn = connect(database=source_connection['database'],\n",
    "                         host=source_connection['host'],\n",
    "                         user=source_connection['username'],\n",
    "                         password=source_connection['password'],\n",
    "                         port=source_connection['port'])\n",
    "    conn.close()\n",
    "    logger.debug(\"Your connection to {} was successful.\".format(source_connection['host']))\n",
    "    return True\n",
    "except:\n",
    "    logger.debug(\"Your connection to {} was not successful.\".format(source_connection['host']))\n",
    "    return False"
   ]
  },
  {
   "cell_type": "code",
   "execution_count": 17,
   "metadata": {},
   "outputs": [],
   "source": [
    "logger.debug(\"Your connection to {} was successful.\".format(source_connection['host']))"
   ]
  },
  {
   "cell_type": "code",
   "execution_count": 10,
   "metadata": {},
   "outputs": [
    {
     "data": {
      "text/plain": [
       "{'host': 'poc-migration-12.cjq8ffbfbj4k.us-east-1.rds.amazonaws.com',\n",
       " 'port': 5432,\n",
       " 'username': 'postgres',\n",
       " 'password': 'postgres'}"
      ]
     },
     "execution_count": 10,
     "metadata": {},
     "output_type": "execute_result"
    }
   ],
   "source": [
    "source_connection"
   ]
  },
  {
   "cell_type": "code",
   "execution_count": 16,
   "metadata": {},
   "outputs": [
    {
     "ename": "SyntaxError",
     "evalue": "invalid syntax (<ipython-input-16-5de3e2c51b5e>, line 1)",
     "output_type": "error",
     "traceback": [
      "\u001b[1;36m  File \u001b[1;32m\"<ipython-input-16-5de3e2c51b5e>\"\u001b[1;36m, line \u001b[1;32m1\u001b[0m\n\u001b[1;33m    def test_connection(source_connection[:]):\u001b[0m\n\u001b[1;37m                                         ^\u001b[0m\n\u001b[1;31mSyntaxError\u001b[0m\u001b[1;31m:\u001b[0m invalid syntax\n"
     ]
    }
   ],
   "source": [
    "def test_connection(source_connection):\n",
    "    source_connection = source_connection[:]\n",
    "    source_connection[\"database\"]=\"postgres\"\n",
    "    try:\n",
    "        conn = connect(database=source_connection['database'],\n",
    "                             host=source_connection['host'],\n",
    "                             user=source_connection['username'],\n",
    "                             password=source_connection['password'],\n",
    "                             port=source_connection['port'])\n",
    "        conn.close()\n",
    "        return True\n",
    "    except:\n",
    "        return False"
   ]
  },
  {
   "cell_type": "code",
   "execution_count": null,
   "metadata": {},
   "outputs": [],
   "source": []
  }
 ],
 "metadata": {
  "kernelspec": {
   "display_name": "poc-migration-rds-cloudsql",
   "language": "python",
   "name": "poc-migration-rds-cloudsql"
  },
  "language_info": {
   "codemirror_mode": {
    "name": "ipython",
    "version": 3
   },
   "file_extension": ".py",
   "mimetype": "text/x-python",
   "name": "python",
   "nbconvert_exporter": "python",
   "pygments_lexer": "ipython3",
   "version": "3.8.3"
  }
 },
 "nbformat": 4,
 "nbformat_minor": 4
}
